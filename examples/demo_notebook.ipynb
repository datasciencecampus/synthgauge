{
 "cells": [
  {
   "cell_type": "markdown",
   "metadata": {},
   "source": [
    "<center><img src=\"../images/logo.png\"/></center>"
   ]
  },
  {
   "cell_type": "markdown",
   "metadata": {},
   "source": [
    "SynthGauge is a Python library providing a framework in which to evaluate synthetically generated data.\n",
    "\n",
    "This notebook provides a basic example workflow for using SynthGauge. For further details on the functionality of the package, see the docs (LINK??)."
   ]
  },
  {
   "cell_type": "code",
   "execution_count": 1,
   "metadata": {},
   "outputs": [],
   "source": [
    "import synthgauge as sg\n",
    "\n",
    "%matplotlib inline"
   ]
  },
  {
   "cell_type": "markdown",
   "metadata": {},
   "source": [
    "Throughout we will be using toy datasets created using the `make_classification()` function in `sklearn`."
   ]
  },
  {
   "cell_type": "code",
   "execution_count": 2,
   "metadata": {},
   "outputs": [
    {
     "name": "stdout",
     "output_type": "stream",
     "text": [
      "    age  height  weight hair_colour eye_colour blood_type\n",
      "0  39.0   180.0    76.0       Black      Green          A\n",
      "1  48.0   178.0    82.0       Black      Brown          B\n",
      "2  35.0   168.0    68.0       Black      Brown          B\n",
      "3  39.0   172.0    82.0       Brown       Blue          O\n",
      "4  61.0   161.0    84.0       Brown       Blue          B\n",
      "\n",
      "\n",
      "    age  height  weight hair_colour eye_colour blood_type\n",
      "0  55.0   184.0    81.0       Black      Brown          A\n",
      "1  43.0   181.0    70.0       Brown      Brown          B\n",
      "2  36.0   163.0    62.0       Brown      Brown         AB\n",
      "3  54.0   176.0    84.0      Blonde       Blue          O\n",
      "4  60.0   163.0    85.0       Brown      Brown          B\n"
     ]
    }
   ],
   "source": [
    "real_data = sg.datasets.make_blood_types_df(noise = 0, random_seed = 101)\n",
    "synth_data = sg.datasets.make_blood_types_df(noise = 1, random_seed = 101)\n",
    "\n",
    "print(real_data.head())\n",
    "print('\\n')\n",
    "print(synth_data.head())"
   ]
  },
  {
   "cell_type": "markdown",
   "metadata": {},
   "source": [
    "SynthGauge revolves around a central `Evaluator` object that must first be instantiated."
   ]
  },
  {
   "cell_type": "code",
   "execution_count": 3,
   "metadata": {},
   "outputs": [],
   "source": [
    "E = sg.Evaluator(real_data, synth_data)"
   ]
  },
  {
   "cell_type": "markdown",
   "metadata": {},
   "source": [
    "We can then use in-built methods to see summary statistics of the data."
   ]
  },
  {
   "cell_type": "code",
   "execution_count": 4,
   "metadata": {},
   "outputs": [
    {
     "data": {
      "text/html": [
       "<div>\n",
       "<style scoped>\n",
       "    .dataframe tbody tr th:only-of-type {\n",
       "        vertical-align: middle;\n",
       "    }\n",
       "\n",
       "    .dataframe tbody tr th {\n",
       "        vertical-align: top;\n",
       "    }\n",
       "\n",
       "    .dataframe thead th {\n",
       "        text-align: right;\n",
       "    }\n",
       "</style>\n",
       "<table border=\"1\" class=\"dataframe\">\n",
       "  <thead>\n",
       "    <tr style=\"text-align: right;\">\n",
       "      <th></th>\n",
       "      <th>count</th>\n",
       "      <th>unique</th>\n",
       "      <th>most_frequent</th>\n",
       "      <th>freq</th>\n",
       "    </tr>\n",
       "  </thead>\n",
       "  <tbody>\n",
       "    <tr>\n",
       "      <th>blood_type_real</th>\n",
       "      <td>1000</td>\n",
       "      <td>4</td>\n",
       "      <td>O</td>\n",
       "      <td>374</td>\n",
       "    </tr>\n",
       "    <tr>\n",
       "      <th>blood_type_synth</th>\n",
       "      <td>1000</td>\n",
       "      <td>4</td>\n",
       "      <td>A</td>\n",
       "      <td>365</td>\n",
       "    </tr>\n",
       "    <tr>\n",
       "      <th>eye_colour_real</th>\n",
       "      <td>1000</td>\n",
       "      <td>3</td>\n",
       "      <td>Brown</td>\n",
       "      <td>643</td>\n",
       "    </tr>\n",
       "    <tr>\n",
       "      <th>eye_colour_synth</th>\n",
       "      <td>1000</td>\n",
       "      <td>3</td>\n",
       "      <td>Brown</td>\n",
       "      <td>697</td>\n",
       "    </tr>\n",
       "    <tr>\n",
       "      <th>hair_colour_real</th>\n",
       "      <td>1000</td>\n",
       "      <td>4</td>\n",
       "      <td>Brown</td>\n",
       "      <td>468</td>\n",
       "    </tr>\n",
       "    <tr>\n",
       "      <th>hair_colour_synth</th>\n",
       "      <td>1000</td>\n",
       "      <td>4</td>\n",
       "      <td>Brown</td>\n",
       "      <td>529</td>\n",
       "    </tr>\n",
       "  </tbody>\n",
       "</table>\n",
       "</div>"
      ],
      "text/plain": [
       "                  count unique most_frequent freq\n",
       "blood_type_real    1000      4             O  374\n",
       "blood_type_synth   1000      4             A  365\n",
       "eye_colour_real    1000      3         Brown  643\n",
       "eye_colour_synth   1000      3         Brown  697\n",
       "hair_colour_real   1000      4         Brown  468\n",
       "hair_colour_synth  1000      4         Brown  529"
      ]
     },
     "execution_count": 4,
     "metadata": {},
     "output_type": "execute_result"
    }
   ],
   "source": [
    "E.describe_categorical()"
   ]
  },
  {
   "cell_type": "code",
   "execution_count": 5,
   "metadata": {},
   "outputs": [
    {
     "data": {
      "text/html": [
       "<div>\n",
       "<style scoped>\n",
       "    .dataframe tbody tr th:only-of-type {\n",
       "        vertical-align: middle;\n",
       "    }\n",
       "\n",
       "    .dataframe tbody tr th {\n",
       "        vertical-align: top;\n",
       "    }\n",
       "\n",
       "    .dataframe thead th {\n",
       "        text-align: right;\n",
       "    }\n",
       "</style>\n",
       "<table border=\"1\" class=\"dataframe\">\n",
       "  <thead>\n",
       "    <tr style=\"text-align: right;\">\n",
       "      <th></th>\n",
       "      <th>count</th>\n",
       "      <th>mean</th>\n",
       "      <th>std</th>\n",
       "      <th>min</th>\n",
       "      <th>25%</th>\n",
       "      <th>50%</th>\n",
       "      <th>75%</th>\n",
       "      <th>max</th>\n",
       "    </tr>\n",
       "  </thead>\n",
       "  <tbody>\n",
       "    <tr>\n",
       "      <th>age_real</th>\n",
       "      <td>1000.0</td>\n",
       "      <td>41.792</td>\n",
       "      <td>8.465483</td>\n",
       "      <td>16.0</td>\n",
       "      <td>36.0</td>\n",
       "      <td>41.0</td>\n",
       "      <td>47.0</td>\n",
       "      <td>77.0</td>\n",
       "    </tr>\n",
       "    <tr>\n",
       "      <th>age_synth</th>\n",
       "      <td>1000.0</td>\n",
       "      <td>42.163</td>\n",
       "      <td>10.097940</td>\n",
       "      <td>8.0</td>\n",
       "      <td>35.0</td>\n",
       "      <td>42.0</td>\n",
       "      <td>49.0</td>\n",
       "      <td>76.0</td>\n",
       "    </tr>\n",
       "    <tr>\n",
       "      <th>height_real</th>\n",
       "      <td>1000.0</td>\n",
       "      <td>173.879</td>\n",
       "      <td>8.704029</td>\n",
       "      <td>149.0</td>\n",
       "      <td>168.0</td>\n",
       "      <td>174.0</td>\n",
       "      <td>180.0</td>\n",
       "      <td>204.0</td>\n",
       "    </tr>\n",
       "    <tr>\n",
       "      <th>height_synth</th>\n",
       "      <td>1000.0</td>\n",
       "      <td>174.069</td>\n",
       "      <td>10.780931</td>\n",
       "      <td>138.0</td>\n",
       "      <td>166.0</td>\n",
       "      <td>174.0</td>\n",
       "      <td>182.0</td>\n",
       "      <td>207.0</td>\n",
       "    </tr>\n",
       "    <tr>\n",
       "      <th>weight_real</th>\n",
       "      <td>1000.0</td>\n",
       "      <td>78.265</td>\n",
       "      <td>9.952579</td>\n",
       "      <td>47.0</td>\n",
       "      <td>72.0</td>\n",
       "      <td>79.0</td>\n",
       "      <td>85.0</td>\n",
       "      <td>113.0</td>\n",
       "    </tr>\n",
       "    <tr>\n",
       "      <th>weight_synth</th>\n",
       "      <td>1000.0</td>\n",
       "      <td>78.137</td>\n",
       "      <td>11.726199</td>\n",
       "      <td>43.0</td>\n",
       "      <td>71.0</td>\n",
       "      <td>78.0</td>\n",
       "      <td>86.0</td>\n",
       "      <td>114.0</td>\n",
       "    </tr>\n",
       "  </tbody>\n",
       "</table>\n",
       "</div>"
      ],
      "text/plain": [
       "               count     mean        std    min    25%    50%    75%    max\n",
       "age_real      1000.0   41.792   8.465483   16.0   36.0   41.0   47.0   77.0\n",
       "age_synth     1000.0   42.163  10.097940    8.0   35.0   42.0   49.0   76.0\n",
       "height_real   1000.0  173.879   8.704029  149.0  168.0  174.0  180.0  204.0\n",
       "height_synth  1000.0  174.069  10.780931  138.0  166.0  174.0  182.0  207.0\n",
       "weight_real   1000.0   78.265   9.952579   47.0   72.0   79.0   85.0  113.0\n",
       "weight_synth  1000.0   78.137  11.726199   43.0   71.0   78.0   86.0  114.0"
      ]
     },
     "execution_count": 5,
     "metadata": {},
     "output_type": "execute_result"
    }
   ],
   "source": [
    "E.describe_numeric()"
   ]
  },
  {
   "cell_type": "markdown",
   "metadata": {},
   "source": [
    "# Plotting\n",
    "\n",
    "The evaluator object has methods to visually compare the real and synthetic data.\n",
    "\n",
    "`plot_histograms()` allows us to look at the univariate distribution of the features."
   ]
  },
  {
   "cell_type": "code",
   "execution_count": 6,
   "metadata": {},
   "outputs": [
    {
     "data": {
      "image/png": "[encoded data removed]",
      "text/plain": [
       "<Figure size 864x864 with 6 Axes>"
      ]
     },
     "metadata": {
      "needs_background": "light"
     },
     "output_type": "display_data"
    }
   ],
   "source": [
    "E.plot_histograms(figsize=(12,12));"
   ]
  },
  {
   "cell_type": "markdown",
   "metadata": {},
   "source": [
    "`plot_correlation()` lets us look at the relationships between variables. The third plot shows the difference between the correlation scores."
   ]
  },
  {
   "cell_type": "code",
   "execution_count": 7,
   "metadata": {},
   "outputs": [
    {
     "name": "stderr",
     "output_type": "stream",
     "text": [
      "c:\\users\\wildeh\\src\\synthgauge\\src\\synthgauge\\plot.py:333: FutureWarning: In a future version of pandas all arguments of DataFrame.dropna will be keyword-only.\n",
      "  corr_results.append(method_cramers_v(data).dropna(\n",
      "c:\\users\\wildeh\\src\\synthgauge\\src\\synthgauge\\plot.py:333: FutureWarning: In a future version of pandas all arguments of DataFrame.dropna will be keyword-only.\n",
      "  corr_results.append(method_cramers_v(data).dropna(\n"
     ]
    },
    {
     "data": {
      "image/png": "[encoded data removed]",
      "text/plain": [
       "<Figure size 576x576 with 7 Axes>"
      ]
     },
     "metadata": {
      "needs_background": "light"
     },
     "output_type": "display_data"
    }
   ],
   "source": [
    "E.plot_correlation(feats=['hair_colour','eye_colour','blood_type'], method='cramers_v', figsize=(8,8), annot=True);"
   ]
  },
  {
   "cell_type": "markdown",
   "metadata": {},
   "source": [
    "Here we see that the features `hair_colour` and `eye_colour` seem to have the biggest difference between their correlation in the real dataset and in the synthetic dataset. We could use the `plot_crosstab()` method to investigate this further."
   ]
  },
  {
   "cell_type": "code",
   "execution_count": 8,
   "metadata": {},
   "outputs": [
    {
     "name": "stderr",
     "output_type": "stream",
     "text": [
      "c:\\users\\wildeh\\src\\synthgauge\\src\\synthgauge\\plot.py:420: FutureWarning: The series.append method is deprecated and will be removed from pandas in a future version. Use pandas.concat instead.\n",
      "  all_x = real_x.append(synth_x)\n",
      "c:\\users\\wildeh\\src\\synthgauge\\src\\synthgauge\\plot.py:421: FutureWarning: The series.append method is deprecated and will be removed from pandas in a future version. Use pandas.concat instead.\n",
      "  all_y = real_y.append(synth_y)\n"
     ]
    },
    {
     "data": {
      "image/png": "[encoded data removed]",
      "text/plain": [
       "<Figure size 576x288 with 3 Axes>"
      ]
     },
     "metadata": {
      "needs_background": "light"
     },
     "output_type": "display_data"
    }
   ],
   "source": [
    "E.plot_crosstab('hair_colour','eye_colour', figsize=(8, 4), cmap=\"light:coral\", annot=True, fmt='d');"
   ]
  },
  {
   "cell_type": "markdown",
   "metadata": {},
   "source": [
    "# Metrics\n",
    "\n",
    "We can also evaluate the synthetic data using metrics. These first need to be added to the evaluator before running the `evaluate()` method. To add these metrics we use the `add_metric()` method, specifying the metric name, optionally an alias, followed by keyword arguments that will be passed to the metric function."
   ]
  },
  {
   "cell_type": "code",
   "execution_count": 9,
   "metadata": {},
   "outputs": [
    {
     "data": {
      "text/html": [
       "<div>\n",
       "<style scoped>\n",
       "    .dataframe tbody tr th:only-of-type {\n",
       "        vertical-align: middle;\n",
       "    }\n",
       "\n",
       "    .dataframe tbody tr th {\n",
       "        vertical-align: top;\n",
       "    }\n",
       "\n",
       "    .dataframe thead th {\n",
       "        text-align: right;\n",
       "    }\n",
       "</style>\n",
       "<table border=\"1\" class=\"dataframe\">\n",
       "  <thead>\n",
       "    <tr style=\"text-align: right;\">\n",
       "      <th></th>\n",
       "      <th>value</th>\n",
       "    </tr>\n",
       "  </thead>\n",
       "  <tbody>\n",
       "    <tr>\n",
       "      <th>wass-age</th>\n",
       "      <td>1.579000</td>\n",
       "    </tr>\n",
       "    <tr>\n",
       "      <th>wass-height</th>\n",
       "      <td>1.634000</td>\n",
       "    </tr>\n",
       "    <tr>\n",
       "      <th>wass-weight</th>\n",
       "      <td>1.414000</td>\n",
       "    </tr>\n",
       "    <tr>\n",
       "      <th>jenshan-hair</th>\n",
       "      <td>0.054061</td>\n",
       "    </tr>\n",
       "    <tr>\n",
       "      <th>jenshan-eye</th>\n",
       "      <td>0.103312</td>\n",
       "    </tr>\n",
       "    <tr>\n",
       "      <th>jenshan-blood</th>\n",
       "      <td>0.067900</td>\n",
       "    </tr>\n",
       "    <tr>\n",
       "      <th>cramers_v_MSE</th>\n",
       "      <td>0.019818</td>\n",
       "    </tr>\n",
       "    <tr>\n",
       "      <th>propensity_metrics-observed_p_MSE</th>\n",
       "      <td>0.249500</td>\n",
       "    </tr>\n",
       "    <tr>\n",
       "      <th>propensity_metrics-standardised_p_MSE</th>\n",
       "      <td>7.635270</td>\n",
       "    </tr>\n",
       "    <tr>\n",
       "      <th>propensity_metrics-ratio_p_MSE</th>\n",
       "      <td>1.018541</td>\n",
       "    </tr>\n",
       "  </tbody>\n",
       "</table>\n",
       "</div>"
      ],
      "text/plain": [
       "                                          value\n",
       "wass-age                               1.579000\n",
       "wass-height                            1.634000\n",
       "wass-weight                            1.414000\n",
       "jenshan-hair                           0.054061\n",
       "jenshan-eye                            0.103312\n",
       "jenshan-blood                          0.067900\n",
       "cramers_v_MSE                          0.019818\n",
       "propensity_metrics-observed_p_MSE      0.249500\n",
       "propensity_metrics-standardised_p_MSE  7.635270\n",
       "propensity_metrics-ratio_p_MSE         1.018541"
      ]
     },
     "execution_count": 9,
     "metadata": {},
     "output_type": "execute_result"
    }
   ],
   "source": [
    "#univariate distribution comparisons\n",
    "E.add_metric('wasserstein','wass-age', feature = 'age')\n",
    "E.add_metric('wasserstein','wass-height', feature = 'height')\n",
    "E.add_metric('wasserstein','wass-weight', feature = 'weight')\n",
    "E.add_metric('jensen_shannon_distance','jenshan-hair',feature='hair_colour', bins = None)\n",
    "E.add_metric('jensen_shannon_distance','jenshan-eye',feature='eye_colour', bins = None)\n",
    "E.add_metric('jensen_shannon_distance','jenshan-blood',feature='blood_type', bins = None)\n",
    "\n",
    "#correlations\n",
    "E.add_metric('cramers_v_MSE')\n",
    "\n",
    "#general utility\n",
    "E.add_metric('propensity_metrics')\n",
    "\n",
    "E.evaluate(as_df=True)"
   ]
  },
  {
   "cell_type": "markdown",
   "metadata": {},
   "source": [
    "More details about the specific metrics can be found in the documentation or by using the help function."
   ]
  },
  {
   "cell_type": "code",
   "execution_count": 10,
   "metadata": {},
   "outputs": [
    {
     "name": "stdout",
     "output_type": "stream",
     "text": [
      "Help on function wasserstein in module synthgauge.metrics.univariate_distance:\n",
      "\n",
      "wasserstein(real, synth, feature, **kwargs)\n",
      "    Distance: Wasserstein\n",
      "    \n",
      "    The Wasserstein distance, or Earth Mover's distance, can be thought of as\n",
      "    calculating the amount of \"work\" required to move from the distribution of\n",
      "    the synthetic data to the distribution of the real data.\n",
      "    \n",
      "    Parameters\n",
      "    ----------\n",
      "    real : pandas dataframe\n",
      "        Dataframe containing the real data.\n",
      "    synth : pandas dataframe\n",
      "        Dataframe containing the synthetic data.\n",
      "    feature : str\n",
      "        String indicating the feature of the datasets to compare. This must be\n",
      "        a continuous variable.\n",
      "    **kwargs : dict\n",
      "        Keyword arguments.\n",
      "    \n",
      "    Returns\n",
      "    -------\n",
      "    distance : float\n",
      "        The computed distance between the distributions.\n",
      "    \n",
      "    See Also\n",
      "    --------\n",
      "    scipy.stats.wasserstein_distance\n",
      "    \n",
      "    Notes\n",
      "    -----\n",
      "    This is a wrapper function for `scipy.stats.wasserstein_distance`.\n",
      "    \n",
      "    Computationally, we can find the Wasserstein distance by calculating the\n",
      "    area between the cumulative distribution functions for the two\n",
      "    distributions.\n",
      "    \n",
      "    If :math:`s` is the `synth` distribution of the `feature`, :math:`r` is the\n",
      "    `real` distribution of the `feature` and :math:`R` and :math:`S` are their\n",
      "    respective cumulative distribution functions, then\n",
      "    \n",
      "    .. math::\n",
      "    \n",
      "        wasserstein(s, r) = \\int_{-\\infty}^{+\\infty} |S-R|\n",
      "    \n",
      "    The distance is zero if the distributions are identical, and increases as\n",
      "    they become less alike. This method is therefore good for comparing\n",
      "    multiple synthetic datasets, or features within a dataset, to see which is\n",
      "    closest to the real. However, as this is not a test, there is no threshold\n",
      "    distance below which we can claim the distributions are statistically the\n",
      "    same.\n",
      "    \n",
      "    Examples\n",
      "    --------\n",
      "    >>> import pandas as pd\n",
      "    >>> real_data = pd.DataFrame(get_real(500),\n",
      "    ...                          columns = ['feat1', 'feat2', 'feat3'])\n",
      "    >>> synth_data = pd.DataFrame(get_synth(500),\n",
      "    ...                           columns = ['feat1', 'feat2', 'feat3'])\n",
      "    \n",
      "    The first feature appears to be more similar than the second across\n",
      "    datasets.\n",
      "    \n",
      "    >>> wasserstein(real_data, synth_data, 'feat1')\n",
      "    0.0688192355094602 # random\n",
      "    >>> wasserstein(real_data, synth_data, 'feat2')\n",
      "    0.8172329918412307 # random\n",
      "\n"
     ]
    }
   ],
   "source": [
    "help(sg.metrics.univariate_distance.wasserstein)"
   ]
  },
  {
   "cell_type": "markdown",
   "metadata": {},
   "source": [
    "It is possible to also add user-defined metrics to the Evaluator object to accommodate specific use cases. The custom_metric() method takes as inputs a name to be displayed in the results table and a function which will be given the real and synthetic datasets as the first and second arguments respectively. Keyword arguments can be specified to pass other parameters to the metric function."
   ]
  },
  {
   "cell_type": "code",
   "execution_count": 11,
   "metadata": {},
   "outputs": [
    {
     "data": {
      "text/html": [
       "<div>\n",
       "<style scoped>\n",
       "    .dataframe tbody tr th:only-of-type {\n",
       "        vertical-align: middle;\n",
       "    }\n",
       "\n",
       "    .dataframe tbody tr th {\n",
       "        vertical-align: top;\n",
       "    }\n",
       "\n",
       "    .dataframe thead th {\n",
       "        text-align: right;\n",
       "    }\n",
       "</style>\n",
       "<table border=\"1\" class=\"dataframe\">\n",
       "  <thead>\n",
       "    <tr style=\"text-align: right;\">\n",
       "      <th></th>\n",
       "      <th>value</th>\n",
       "    </tr>\n",
       "  </thead>\n",
       "  <tbody>\n",
       "    <tr>\n",
       "      <th>wass-age</th>\n",
       "      <td>1.579000</td>\n",
       "    </tr>\n",
       "    <tr>\n",
       "      <th>wass-height</th>\n",
       "      <td>1.634000</td>\n",
       "    </tr>\n",
       "    <tr>\n",
       "      <th>wass-weight</th>\n",
       "      <td>1.414000</td>\n",
       "    </tr>\n",
       "    <tr>\n",
       "      <th>jenshan-hair</th>\n",
       "      <td>0.054061</td>\n",
       "    </tr>\n",
       "    <tr>\n",
       "      <th>jenshan-eye</th>\n",
       "      <td>0.103312</td>\n",
       "    </tr>\n",
       "    <tr>\n",
       "      <th>jenshan-blood</th>\n",
       "      <td>0.067900</td>\n",
       "    </tr>\n",
       "    <tr>\n",
       "      <th>cramers_v_MSE</th>\n",
       "      <td>0.019818</td>\n",
       "    </tr>\n",
       "    <tr>\n",
       "      <th>propensity_metrics-observed_p_MSE</th>\n",
       "      <td>0.249500</td>\n",
       "    </tr>\n",
       "    <tr>\n",
       "      <th>propensity_metrics-standardised_p_MSE</th>\n",
       "      <td>5.177538</td>\n",
       "    </tr>\n",
       "    <tr>\n",
       "      <th>propensity_metrics-ratio_p_MSE</th>\n",
       "      <td>1.018454</td>\n",
       "    </tr>\n",
       "    <tr>\n",
       "      <th>skew-diff-age</th>\n",
       "      <td>0.334088</td>\n",
       "    </tr>\n",
       "  </tbody>\n",
       "</table>\n",
       "</div>"
      ],
      "text/plain": [
       "                                          value\n",
       "wass-age                               1.579000\n",
       "wass-height                            1.634000\n",
       "wass-weight                            1.414000\n",
       "jenshan-hair                           0.054061\n",
       "jenshan-eye                            0.103312\n",
       "jenshan-blood                          0.067900\n",
       "cramers_v_MSE                          0.019818\n",
       "propensity_metrics-observed_p_MSE      0.249500\n",
       "propensity_metrics-standardised_p_MSE  5.177538\n",
       "propensity_metrics-ratio_p_MSE         1.018454\n",
       "skew-diff-age                          0.334088"
      ]
     },
     "execution_count": 11,
     "metadata": {},
     "output_type": "execute_result"
    }
   ],
   "source": [
    "from scipy.stats import skew\n",
    "\n",
    "# Toy custom metric\n",
    "def skew_difference(real, synth, feat):\n",
    "    real_skew = skew(real[feat])\n",
    "    synth_skew = skew(synth[feat]) \n",
    "    return abs(real_skew - synth_skew)\n",
    "\n",
    "# Add the metric to the Evaluator's metrics catalog under the alias 'skew_diff'\n",
    "E.add_custom_metric('skew-diff-age', skew_difference, feat='age')\n",
    "\n",
    "# The custom metric will now be evaluated along with any previously specified\n",
    "E.evaluate(as_df=True)"
   ]
  },
  {
   "cell_type": "markdown",
   "metadata": {},
   "source": [
    "# Comparing with another dataset\n",
    "\n",
    "The functionality of SynthGauge makes it easy to compare different synthetic datasets. It's as simple as creating another evaluator object with the new synthetic datset, running the same plotting methods, and 'copying' the metrics from the first evaluator."
   ]
  },
  {
   "cell_type": "code",
   "execution_count": 12,
   "metadata": {},
   "outputs": [],
   "source": [
    "synth_data_comparison = sg.datasets.make_blood_types_df(noise=0.5, random_seed=101)\n",
    "\n",
    "E_comparison = sg.Evaluator(real_data, synth_data_comparison)"
   ]
  },
  {
   "cell_type": "code",
   "execution_count": null,
   "metadata": {},
   "outputs": [],
   "source": [
    "E_comparison.plot_histograms(figsize=(12,12));"
   ]
  },
  {
   "cell_type": "code",
   "execution_count": null,
   "metadata": {},
   "outputs": [],
   "source": [
    "E_comparison.copy_metrics(E)\n",
    "E_comparison.evaluate(as_df=True)"
   ]
  },
  {
   "cell_type": "code",
   "execution_count": null,
   "metadata": {},
   "outputs": [],
   "source": []
  }
 ],
 "metadata": {
  "interpreter": {
   "hash": "e7c37ba80a6e54a3d63188245ab5de6a3e0d381993bcb1990a7020536fc2299e"
  },
  "kernelspec": {
   "display_name": "synthgauge-dev",
   "language": "python",
   "name": "synthgauge-dev"
  },
  "language_info": {
   "codemirror_mode": {
    "name": "ipython",
    "version": 3
   },
   "file_extension": ".py",
   "mimetype": "text/x-python",
   "name": "python",
   "nbconvert_exporter": "python",
   "pygments_lexer": "ipython3",
   "version": "3.8.3"
  }
 },
 "nbformat": 4,
 "nbformat_minor": 2
}
